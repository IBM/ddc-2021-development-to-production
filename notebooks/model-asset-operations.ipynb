{
 "cells": [
  {
   "cell_type": "markdown",
   "metadata": {},
   "source": [
    "\n",
    "# Asset Management on IBM Cloud Pak for Data\n",
    "\n",
    "We are going to use this notebook to demonstrate how assets can be moved between deployment spaces using the Watson Machine Learning service. This approach may be useful in scenarios where there are separate environments used in the model development and delivery lifecycle. For example, you may have one space for development assets, one space to use as a staging/testing environment, and one space where your production assets are deployed. These spaces might all have different levels of access/authorization controls for different roles/users."
   ]
  },
  {
   "cell_type": "markdown",
   "metadata": {},
   "source": [
    "## 1.0 Install required packages\n",
    "\n",
    "\n",
    "There are a couple of Python packages we will use in this notebook.\n",
    "\n",
    "- We are using the <a href=\"https://console.ng.bluemix.net/catalog/services/ibm-watson-machine-learning/\" target=\"_blank\" rel=\"noopener no referrer\">Watson Machine Learning (WML) Service</a> and will be interacting with it using the [ibm-watson-machine-learning](https://pypi.python.org/pypi/ibm-watson-machine-learning) library available in PyPI repository."
   ]
  },
  {
   "cell_type": "code",
   "execution_count": null,
   "metadata": {},
   "outputs": [],
   "source": [
    "!pip uninstall watson-machine-learning-client -y | tail -n 1\n",
    "!pip uninstall watson-machine-learning-client-V4 -y | tail -n 1\n",
    "\n",
    "!pip install --upgrade ibm-watson-machine-learning==1.0.79 --user --no-cache | tail -n 1"
   ]
  },
  {
   "cell_type": "code",
   "execution_count": null,
   "metadata": {},
   "outputs": [],
   "source": [
    "import json\n",
    "from ibm_watson_machine_learning import APIClient"
   ]
  },
  {
   "cell_type": "markdown",
   "metadata": {},
   "source": [
    "## 2.0 Instantiate Watson Machine Learning Client\n",
    "\n",
    "To authenticate the Watson Machine Learning service on IBM Cloud, you need to provide a platform `api_key` and an endpoint URL. Where the endpoint URL is based on the `location` of the WML instance. To get these values you can use either the IBM Cloud CLI or the IBM Cloud UI.\n"
   ]
  },
  {
   "cell_type": "markdown",
   "metadata": {},
   "source": [
    "#### IBM Cloud CLI\n",
    "\n",
    "You can use the [IBM Cloud CLI](https://cloud.ibm.com/docs/cli/index.html) to create a platform API Key and retrieve your instance location.\n",
    "\n",
    "- To generate the Cloud API Key, run the following commands:\n",
    "```\n",
    "ibmcloud login\n",
    "ibmcloud iam api-key-create API_KEY_NAME\n",
    "```\n",
    "  - Copy the value of `api_key` from the output.\n",
    "\n",
    "\n",
    "- To retrieve the location of your WML instance, run the following commands:\n",
    "```\n",
    "ibmcloud login --apikey API_KEY -a https://cloud.ibm.com\n",
    "ibmcloud resource service-instance \"WML_INSTANCE_NAME\"\n",
    "```\n",
    "> Note: WML_INSTANCE_NAME is the name of your Watson Machine Learning instance and should be quoted in the command.\n",
    "\n",
    "  - Copy the value of `Location` from the output."
   ]
  },
  {
   "cell_type": "markdown",
   "metadata": {},
   "source": [
    "#### IBM Cloud UI\n",
    "\n",
    "To generate Cloud API key:\n",
    "- Go to the [**Users** section of the Cloud console](https://cloud.ibm.com/iam#/users). \n",
    "- From that page, click your name in the top right corner, scroll down to the **API Keys** section, and click **Create an IBM Cloud API key**. \n",
    "- Give your key a name and click **Create**, then copy the created key and to use it below.\n",
    "\n",
    "To retrieve the location of your WML instance:\n",
    "- Go to the [**Resources List** section of the Cloud console](https://cloud.ibm.com/resources).\n",
    "- From that page, expand the **Services** section and find your Watson Machine Learning Instance.\n",
    "- Based on the Location displayed in that page, select one of the following values for location variable:\n",
    "|Displayed Location|Location|\n",
    "|-|-|\n",
    "|Dallas|us-south|\n",
    "|London|eu-gb|\n",
    "|Frankfurt|eu-de|\n",
    "|Tokyo|jp-tok|\n"
   ]
  },
  {
   "cell_type": "markdown",
   "metadata": {},
   "source": [
    "<font color='red'><<**ENTER YOUR IBM CLOUD `api_key` AND MACHINE LEARNING SERVICE INSTANCE `location` IN THE CELL BELOW**>></font>"
   ]
  },
  {
   "cell_type": "code",
   "execution_count": null,
   "metadata": {},
   "outputs": [],
   "source": [
    "API_KEY = 'PASTE YOUR PLATFORM API KEY HERE'\n",
    "LOCATION = 'PASTE YOUR INSTANCE LOCATION HERE'"
   ]
  },
  {
   "cell_type": "code",
   "execution_count": null,
   "metadata": {},
   "outputs": [],
   "source": [
    "wml_credentials = {\n",
    "    \"apikey\": API_KEY,\n",
    "    \"url\": 'https://' + LOCATION + '.ml.cloud.ibm.com'\n",
    "}\n",
    "wml_client = APIClient(wml_credentials)"
   ]
  },
  {
   "cell_type": "markdown",
   "metadata": {},
   "source": [
    "## 3.0 Get Assets from `Development` Deployment Spaces\n",
    "\n",
    "We will find the `GUID` for the deployment space you want to use and set it as the default space for the client."
   ]
  },
  {
   "cell_type": "code",
   "execution_count": null,
   "metadata": {
    "pycharm": {
     "is_executing": false,
     "name": "#%%\n"
    }
   },
   "outputs": [],
   "source": [
    "wml_client.spaces.list()"
   ]
  },
  {
   "cell_type": "markdown",
   "metadata": {},
   "source": [
    "<font color='red'><<**UPDATE THE VARIABLE `EXPORT_SPACE_ID`  TO THE GUID OF THE DEPLOYMENT SPACE YOU ARE PULLING MODELS FROM.**>></font>\n",
    "\n",
    "> Note: You should copy the ID of your deployment space from the output of the previous cell to the variable in the next cell. "
   ]
  },
  {
   "cell_type": "code",
   "execution_count": null,
   "metadata": {},
   "outputs": [],
   "source": [
    "EXPORT_SPACE_ID = 'PASTE YOUR DEPLOYMENT SPACE GUID HERE'"
   ]
  },
  {
   "cell_type": "code",
   "execution_count": null,
   "metadata": {},
   "outputs": [],
   "source": [
    "# Now set the default space to the GUID for your deployment space. If this is successful, you will see a 'SUCCESS' message.\n",
    "wml_client.set.default_space(EXPORT_SPACE_ID)"
   ]
  },
  {
   "cell_type": "markdown",
   "metadata": {},
   "source": [
    "### 3.1 Get all models in the space"
   ]
  },
  {
   "cell_type": "markdown",
   "metadata": {},
   "source": [
    "Start by listing all the models in your deployment space. Though we could export more than models, for this exercise we only want to move ML model assets."
   ]
  },
  {
   "cell_type": "code",
   "execution_count": null,
   "metadata": {
    "pycharm": {
     "is_executing": false,
     "name": "#%%\n"
    }
   },
   "outputs": [],
   "source": [
    "models_details = wml_client.repository.list_models()"
   ]
  },
  {
   "cell_type": "markdown",
   "metadata": {},
   "source": [
    "<font color='red'><<**UPDATE THE VARIABLE `MODEL_ID_TO_EXPORT`  TO THE ID OF THE MODEL YOU ARE GOING TO EXPORT.**>></font>\n",
    "\n",
    "> Note: You should copy the ID of your MODEL from the output of the previous cell to the variable in the next cell. "
   ]
  },
  {
   "cell_type": "code",
   "execution_count": null,
   "metadata": {},
   "outputs": [],
   "source": [
    "MODEL_ID_TO_EXPORT = 'PASTE YOUR MODEL ID HERE'"
   ]
  },
  {
   "cell_type": "markdown",
   "metadata": {},
   "source": [
    "### 3.2 Use Export Function\n",
    "\n",
    "We will use the export method in the Watson Machine Learning client. The export method allows users to create a job that will extract assets from a deployment space. "
   ]
  },
  {
   "cell_type": "code",
   "execution_count": null,
   "metadata": {},
   "outputs": [],
   "source": [
    "help(wml_client.export_assets.start)"
   ]
  },
  {
   "cell_type": "markdown",
   "metadata": {},
   "source": [
    "#### 3.2.1 Start the export process"
   ]
  },
  {
   "cell_type": "markdown",
   "metadata": {},
   "source": [
    "The export process can be used to export either: specific assets (using a collection of ASSET_IDS), specific asset types (i.e all models, all data files, etc) or all assets in the space.\n",
    "\n",
    "We are going to export a single model (the `MODEL_ID_TO_EXPORT` we specified above), but if you wanted to export more than one model ids, you need to provide them as array like client.export_assets.ConfigurationMetaNames.ASSET_IDS: [model_id1, model_id2]"
   ]
  },
  {
   "cell_type": "code",
   "execution_count": null,
   "metadata": {},
   "outputs": [],
   "source": [
    "metadata = { wml_client.export_assets.ConfigurationMetaNames.NAME: \"export_model\",\n",
    "             wml_client.export_assets.ConfigurationMetaNames.ASSET_IDS: [MODEL_ID_TO_EXPORT]                                                                         \n",
    "           }\n",
    "\n",
    "details = wml_client.export_assets.start(meta_props=metadata, space_id=EXPORT_SPACE_ID)\n",
    "print(json.dumps(details, indent=2))\n",
    "\n",
    "export_job_id = details[u'metadata'][u'id']\n",
    "print(\"Export Job ID: \", export_job_id)"
   ]
  },
  {
   "cell_type": "markdown",
   "metadata": {},
   "source": [
    "#### 3.2.2 Monitor the export process"
   ]
  },
  {
   "cell_type": "code",
   "execution_count": null,
   "metadata": {},
   "outputs": [],
   "source": [
    "import time\n",
    "\n",
    "start_time = time.time()\n",
    "diff_time = start_time - start_time\n",
    "while True and diff_time < 10 * 60:\n",
    "    time.sleep(3)\n",
    "    response = wml_client.export_assets.get_details(export_job_id, space_id=EXPORT_SPACE_ID)\n",
    "    state = response[u'entity'][u'status'][u'state']\n",
    "    print(state)\n",
    "    if state == 'completed' or state == 'error' or state == 'failed':\n",
    "        break\n",
    "    diff_time = time.time() - start_time\n",
    "\n",
    "print(json.dumps(response, indent=2))"
   ]
  },
  {
   "cell_type": "markdown",
   "metadata": {},
   "source": [
    "#### 3.2.3 Get Exported Content\n",
    "\n",
    "You can now get the file with the exported assets."
   ]
  },
  {
   "cell_type": "code",
   "execution_count": null,
   "metadata": {},
   "outputs": [],
   "source": [
    "import os\n",
    "import uuid\n",
    "\n",
    "export_dir = 'EXPORT_DATA'\n",
    "\n",
    "if not os.path.isdir(export_dir):\n",
    "    os.mkdir(export_dir)\n",
    "    \n",
    "export_file_name = 'exported_content_' + str(uuid.uuid4()) + '.zip'\n",
    "    \n",
    "export_file_path = os.path.join(export_dir, export_file_name)\n",
    "\n",
    "details = wml_client.export_assets.get_exported_content(export_job_id, \n",
    "                                                    space_id = EXPORT_SPACE_ID, \n",
    "                                                    file_path = export_file_path)\n",
    "\n",
    "print(details)"
   ]
  },
  {
   "cell_type": "code",
   "execution_count": null,
   "metadata": {},
   "outputs": [],
   "source": [
    "!ls -al EXPORT_DATA"
   ]
  },
  {
   "cell_type": "markdown",
   "metadata": {},
   "source": [
    "## 4.0 Push Assets to target `Staging` Deployment Space\n",
    "\n",
    "We will find the `GUID` for the deployment space you want to target as your \"staging\" or \"testing\" space where the assets will be imported."
   ]
  },
  {
   "cell_type": "code",
   "execution_count": null,
   "metadata": {},
   "outputs": [],
   "source": [
    "wml_client.spaces.list()"
   ]
  },
  {
   "cell_type": "markdown",
   "metadata": {},
   "source": [
    "<font color='red'><<**UPDATE THE VARIABLE `IMPORT_SPACE_ID`  TO THE GUID OF THE DEPLOYMENT SPACE YOU ARE PUSHING MODELS TO.**>></font>\n",
    "\n",
    "> Note: You should copy the ID of your deployment space from the output of the previous cell to the variable in the next cell. "
   ]
  },
  {
   "cell_type": "code",
   "execution_count": null,
   "metadata": {},
   "outputs": [],
   "source": [
    "IMPORT_SPACE_ID = 'PASTE YOUR DEPLOYMENT SPACE GUID HERE'"
   ]
  },
  {
   "cell_type": "markdown",
   "metadata": {},
   "source": [
    "### 4.1 Use the import Function\n",
    "\n",
    "Now that we have the assets exported, we can export them to another deployment space. In a real world scenario, we may be pushing the exported assets to a source control system, maybe even use some CI/CD tooling to then move them to the target deployment environment. For this simple example, we are just going to move the models to another deployment space.\n",
    "\n",
    "We will be using the Watson Machine Learning client `import_assets` API. This service will kick of an asynchronous job that can be monitored and managed.\n"
   ]
  },
  {
   "cell_type": "markdown",
   "metadata": {},
   "source": [
    "#### 4.1.1 Start the import process"
   ]
  },
  {
   "cell_type": "code",
   "execution_count": null,
   "metadata": {},
   "outputs": [],
   "source": [
    "details = wml_client.import_assets.start(file_path=export_file_path,\n",
    "                                     space_id=IMPORT_SPACE_ID)\n",
    "print(json.dumps(details, indent=2))\n",
    "\n",
    "import_job_id = details[u'metadata'][u'id']\n",
    "print(\"Import job id: \", import_job_id)"
   ]
  },
  {
   "cell_type": "markdown",
   "metadata": {},
   "source": [
    "#### 4.2 Monitor the import process\n",
    "\n",
    "We will monitor the import job until it either completes, fails or errors out."
   ]
  },
  {
   "cell_type": "code",
   "execution_count": null,
   "metadata": {},
   "outputs": [],
   "source": [
    "import time\n",
    "\n",
    "start_time = time.time()\n",
    "diff_time = start_time - start_time\n",
    "while True and diff_time < 10 * 60:\n",
    "    time.sleep(3)\n",
    "    response = wml_client.import_assets.get_details(import_job_id,\n",
    "                                                space_id=IMPORT_SPACE_ID)\n",
    "    state = response[u'entity'][u'status'][u'state']\n",
    "    print(state)\n",
    "    if state == 'completed' or state == 'error' or state == 'failed':\n",
    "         break\n",
    "    diff_time = time.time() - start_time\n",
    "\n",
    "print(json.dumps(response, indent=2))"
   ]
  },
  {
   "cell_type": "markdown",
   "metadata": {},
   "source": [
    "#### 4.3 List Assets in Target Space\n",
    "\n",
    "We can verify the import process by listing the assets in the target deployment space."
   ]
  },
  {
   "cell_type": "code",
   "execution_count": null,
   "metadata": {},
   "outputs": [],
   "source": [
    "# Now set the default space to the GUID for your deployment space. If this is successful, you will see a 'SUCCESS' message.\n",
    "wml_client.set.default_space(IMPORT_SPACE_ID)"
   ]
  },
  {
   "cell_type": "code",
   "execution_count": null,
   "metadata": {},
   "outputs": [],
   "source": [
    "print(\"{}List of models: {}\".format('\\n', '\\n'))\n",
    "wml_client.repository.list_models()\n",
    "details = wml_client.repository.get_model_details()"
   ]
  },
  {
   "cell_type": "markdown",
   "metadata": {},
   "source": [
    "## [OPTIONAL] 5.0 Deploy and score the imported model\n",
    "\n",
    "As an optional exercise, we could create an online deployment and test the imported model. The cells below are set to a raw cell type since this is an optional section. If you wish to run this exercise, change the type to code by selecting each cell and selecting the `Code` type from the \"Format\" drop down meny in the toolbar."
   ]
  },
  {
   "cell_type": "raw",
   "metadata": {
    "pycharm": {
     "is_executing": false,
     "name": "#%%\n"
    }
   },
   "source": [
    "# CREATES AN ONLINE DEPLOYMENT FOR THE MODEL\n",
    "\n",
    "MODEL_ID_TO_DEPLOY = 'PASTE THE MODEL ID HERE'\n",
    "metadata = {\n",
    "    wml_client.deployments.ConfigurationMetaNames.NAME: \"Deployment of imported model\",\n",
    "    wml_client.deployments.ConfigurationMetaNames.ONLINE: {}\n",
    "}\n",
    "\n",
    "created_deployment = wml_client.deployments.create(MODEL_ID_TO_DEPLOY, meta_props=metadata)"
   ]
  },
  {
   "cell_type": "raw",
   "metadata": {},
   "source": [
    "# GET THE DEPLOYMENT SCORING ENDPOINT\n",
    "deployment_uid = wml_client.deployments.get_uid(created_deployment)\n",
    "scoring_endpoint = wml_client.deployments.get_scoring_href(created_deployment)\n",
    "print(scoring_endpoint)"
   ]
  },
  {
   "cell_type": "raw",
   "metadata": {
    "pycharm": {
     "is_executing": false,
     "name": "#%%\n"
    }
   },
   "source": [
    "# GET THE DEPLOYMENT DETAILS\n",
    "details = wml_client.deployments.get_details(deployment_uid)\n",
    "print(json.dumps(details, indent=2))"
   ]
  },
  {
   "cell_type": "raw",
   "metadata": {
    "pycharm": {
     "is_executing": false,
     "name": "#%%\n"
    }
   },
   "source": [
    "# You will need to modify the scoring payload based on the model you are testing\n",
    "scoring_payload = {\"input_data\": [{\"values\": [1,2,3]}]}\n",
    "predictions = wml_client.deployments.score(deployment_uid, scoring_payload)\n",
    "print(json.dumps(predictions, indent=2))"
   ]
  },
  {
   "cell_type": "markdown",
   "metadata": {},
   "source": [
    "## 6.0 Clean up \n",
    "\n",
    "You could now clean up your deployment spaces. The code below will delete the deployment spaces. This is left commented out in case you want to keep your deployment space. If you are done with all the labs and want to delete the spaces, uncomment the code (remove the `#` character and run the cell."
   ]
  },
  {
   "cell_type": "code",
   "execution_count": null,
   "metadata": {},
   "outputs": [],
   "source": [
    "#wml_client.export_assets.delete(export_job_id, space_id=EXPORT_SPACE_ID)\n",
    "#wml_client.import_assets.delete(import_job_id, space_id=IMPORT_SPACE_ID)\n",
    "#wml_client.spaces.delete(EXPORT_SPACE_ID)\n",
    "#wml_client.spaces.delete(IMPORT_SPACE_ID)"
   ]
  },
  {
   "cell_type": "markdown",
   "metadata": {},
   "source": [
    "## Credits / Acknowledgements\n",
    "\n",
    "Adapted from - https://github.com/IBM/watson-machine-learning-samples/blob/master/cloud/notebooks/python_sdk/instance-management/Machine%20Learning%20artifacts%20export%20and%20import.ipynb\n",
    "\n",
    "- Original Authors: Mithun - *vbmithun@in.ibm.com**, Software Engineer"
   ]
  },
  {
   "cell_type": "markdown",
   "metadata": {},
   "source": [
    "Copyright © 2020, 2021 IBM. This notebook and its source code are released under the terms of the MIT License."
   ]
  }
 ],
 "metadata": {
  "kernelspec": {
   "display_name": "Python 3.7",
   "language": "python",
   "name": "python3"
  },
  "language_info": {
   "codemirror_mode": {
    "name": "ipython",
    "version": 3
   },
   "file_extension": ".py",
   "mimetype": "text/x-python",
   "name": "python",
   "nbconvert_exporter": "python",
   "pygments_lexer": "ipython3",
   "version": "3.7.10"
  },
  "pycharm": {
   "stem_cell": {
    "cell_type": "raw",
    "metadata": {
     "collapsed": false
    },
    "source": []
   }
  }
 },
 "nbformat": 4,
 "nbformat_minor": 4
}
