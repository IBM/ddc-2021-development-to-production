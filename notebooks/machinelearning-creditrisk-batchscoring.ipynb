{
 "cells": [
  {
   "cell_type": "markdown",
   "metadata": {},
   "source": [
    "# Batch Scoring on IBM Cloud Pak for Data as a Service\n",
    "\n",
    "We are going to use this notebook to create and/or run a batch scoring job against a model that has previously been created and deployed to the Watson Machine Learning (WML) instance on Cloud Pak for Data (CPD)."
   ]
  },
  {
   "cell_type": "markdown",
   "metadata": {},
   "source": [
    "## 1.0 Install required packages\n",
    "\n",
    "\n",
    "There are a couple of Python packages we will use in this notebook.\n",
    "\n",
    "WML Client: http://ibm-wml-api-pyclient.mybluemix.net/"
   ]
  },
  {
   "cell_type": "code",
   "execution_count": null,
   "metadata": {},
   "outputs": [],
   "source": [
    "!pip uninstall watson-machine-learning-client -y | tail -n 1\n",
    "!pip uninstall watson-machine-learning-client-V4 -y | tail -n 1\n",
    "\n",
    "!pip install --upgrade ibm-watson-machine-learning==1.0.22 --user --no-cache | tail -n 1"
   ]
  },
  {
   "cell_type": "code",
   "execution_count": null,
   "metadata": {},
   "outputs": [],
   "source": [
    "import json\n",
    "from ibm_watson_machine_learning import APIClient"
   ]
  },
  {
   "cell_type": "markdown",
   "metadata": {},
   "source": [
    "## 2.0 Create Batch Deployment Job"
   ]
  },
  {
   "cell_type": "markdown",
   "metadata": {},
   "source": [
    "### 2.1 Instantiate Watson Machine Learning Client\n",
    "\n",
    "To authenticate the Watson Machine Learning service on IBM Cloud, you need to provide a platform `api_key` and an endpoint URL. Where the endpoint URL is based on the `location` of the WML instance. To get these values you can use either the IBM Cloud CLI or the IBM Cloud UI.\n"
   ]
  },
  {
   "cell_type": "markdown",
   "metadata": {},
   "source": [
    "#### IBM Cloud CLI\n",
    "\n",
    "You can use the [IBM Cloud CLI](https://cloud.ibm.com/docs/cli/index.html) to create a platform API Key and retrieve your instance location.\n",
    "\n",
    "- To generate the Cloud API Key, run the following commands:\n",
    "```\n",
    "ibmcloud login\n",
    "ibmcloud iam api-key-create API_KEY_NAME\n",
    "```\n",
    "  - Copy the value of `api_key` from the output.\n",
    "\n",
    "\n",
    "- To retrieve the location of your WML instance, run the following commands:\n",
    "```\n",
    "ibmcloud login --apikey API_KEY -a https://cloud.ibm.com\n",
    "ibmcloud resource service-instance \"WML_INSTANCE_NAME\"\n",
    "```\n",
    "> Note: WML_INSTANCE_NAME is the name of your Watson Machine Learning instance and should be quoted in the command.\n",
    "\n",
    "  - Copy the value of `Location` from the output."
   ]
  },
  {
   "cell_type": "markdown",
   "metadata": {},
   "source": [
    "#### IBM Cloud UI\n",
    "\n",
    "To generate Cloud API key:\n",
    "- Go to the [**Users** section of the Cloud console](https://cloud.ibm.com/iam#/users). \n",
    "- From that page, click your name in the top right corner, scroll down to the **API Keys** section, and click **Create an IBM Cloud API key**. \n",
    "- Give your key a name and click **Create**, then copy the created key and to use it below.\n",
    "\n",
    "To retrieve the location of your WML instance:\n",
    "- Go to the [**Resources List** section of the Cloud console](https://cloud.ibm.com/resources).\n",
    "- From that page, expand the **Services** section and find your Watson Machine Learning Instance.\n",
    "- Based on the Location displayed in that page, select one of the following values for location variable:\n",
    "|Displayed Location|Location|\n",
    "|-|-|\n",
    "|Dallas|us-south|\n",
    "|London|eu-gb|\n",
    "|Frankfurt|eu-de|\n",
    "|Tokyo|jp-tok|\n"
   ]
  },
  {
   "cell_type": "markdown",
   "metadata": {},
   "source": [
    "**<font color='red'><< Enter your `api_key` and `location` in the following cell. >></font>**"
   ]
  },
  {
   "cell_type": "code",
   "execution_count": null,
   "metadata": {},
   "outputs": [],
   "source": [
    "# Be sure to update these credentials before running the cell.\n",
    "api_key = '<api-key>'\n",
    "location = '<location>'"
   ]
  },
  {
   "cell_type": "code",
   "execution_count": null,
   "metadata": {},
   "outputs": [],
   "source": [
    "wml_credentials = {\n",
    "    \"apikey\": api_key,\n",
    "    \"url\": 'https://' + location + '.ml.cloud.ibm.com'\n",
    "}\n",
    "\n",
    "wml_client = APIClient(wml_credentials)"
   ]
  },
  {
   "cell_type": "code",
   "execution_count": null,
   "metadata": {},
   "outputs": [],
   "source": [
    "wml_client.spaces.list()"
   ]
  },
  {
   "cell_type": "markdown",
   "metadata": {},
   "source": [
    "### 2.2 Find Deployment Space\n",
    "\n",
    "We will try to find the `GUID` for the deployment space you want to use and set it as the default space for the client.\n",
    "\n",
    "- **<font color='red'><< UPDATE THE VARIABLE 'DEPLOYMENT_SPACE_NAME' TO THE NAME OF THE DEPLOYMENT SPACE CREATED PREVIOUSLY>></font>**\n",
    "\n",
    "> Note: You should copy the name of your deployment space from the output of the previous cell to the variable in the next cell. The deployment space ID will be looked up based on the name specified below. If you do not receive a space GUID as an output to the next cell, do not proceed until you have created a deployment space."
   ]
  },
  {
   "cell_type": "code",
   "execution_count": null,
   "metadata": {},
   "outputs": [],
   "source": [
    "# Be sure to update the name of the space with the one you want to use.\n",
    "DEPLOYMENT_SPACE_NAME = \"<deployment-space-name>\""
   ]
  },
  {
   "cell_type": "code",
   "execution_count": null,
   "metadata": {},
   "outputs": [],
   "source": [
    "wml_client.spaces.list()\n",
    "all_spaces = wml_client.spaces.get_details()['resources']\n",
    "space_id = None\n",
    "for space in all_spaces:\n",
    "    if space['entity']['name'] == DEPLOYMENT_SPACE_NAME:\n",
    "        space_id = space[\"metadata\"][\"id\"]\n",
    "        print(\"\\nDeployment Space ID: \", space_id)\n",
    "\n",
    "if space_id is None:\n",
    "    print(\"WARNING: Your space does not exist. Create a deployment space before proceeding to the next cell.\")"
   ]
  },
  {
   "cell_type": "code",
   "execution_count": null,
   "metadata": {},
   "outputs": [],
   "source": [
    "# Now set the default space to the GUID for your deployment space. If this is successful, you will see a 'SUCCESS' message.\n",
    "wml_client.set.default_space(space_id)"
   ]
  },
  {
   "cell_type": "code",
   "execution_count": null,
   "metadata": {},
   "outputs": [],
   "source": [
    "# These are the models and deployments we currently have in our deployment space.\n",
    "wml_client.repository.list_models()\n",
    "wml_client.deployments.list()"
   ]
  },
  {
   "cell_type": "markdown",
   "metadata": {},
   "source": [
    "### 2.3 Find Batch Deployment\n",
    "\n",
    "We will try to find the batch deployment which was created.\n",
    "\n",
    "- <font color=red>**<< UPDATE THE VARIABLES 'DEPLOYMENT_NAME' BELOW WITH THE NAME OF THE BATCH DEPLOYMENT YOU CREATED PREVIOUSLY >>**</font>\n",
    "\n",
    ">Note: You should copy the deployment name from the output of the previous cell to the variable in this next cell. "
   ]
  },
  {
   "cell_type": "code",
   "execution_count": null,
   "metadata": {},
   "outputs": [],
   "source": [
    "DEPLOYMENT_NAME = \"<batch-deployment-name>\""
   ]
  },
  {
   "cell_type": "code",
   "execution_count": null,
   "metadata": {},
   "outputs": [],
   "source": [
    "wml_deployments = wml_client.deployments.get_details()\n",
    "deployment_uid = None\n",
    "deployment_details = None\n",
    "for deployment in wml_deployments['resources']:\n",
    "    if DEPLOYMENT_NAME == deployment['entity']['name']:\n",
    "        deployment_uid = deployment['metadata']['id']\n",
    "        deployment_details = deployment\n",
    "        #print(json.dumps(deployment_details, indent=3))\n",
    "        break\n",
    "\n",
    "print(\"Deployment id: {}\".format(deployment_uid))\n",
    "wml_client.deployments.get_details(deployment_uid)"
   ]
  },
  {
   "cell_type": "markdown",
   "metadata": {},
   "source": [
    "### 2.4 Get Batch Test Data\n",
    "\n",
    "We will load some data to run the batch predictions\n",
    "\n",
    "**<font color='red'><< FOLLOW THE INSTRUCTIONS BELOW TO LOAD THE DATASET >></font>**\n",
    "\n",
    "* Highlight the cell below by clicking in it, under the first commented line.\n",
    "* Click the `01/00` \"Find data\" icon in the upper right of the notebook.\n",
    "* Find the project file `German-Credit-Risk-SmallBatchSet.csv` in the `Files` tab. Then click `Insert to code` and choose `pandas DataFrame`.\n",
    "* The code to bring the data into the notebook environment and create a Pandas DataFrame will be added to the cell below.\n",
    "* Run the cell\n"
   ]
  },
  {
   "cell_type": "code",
   "execution_count": null,
   "metadata": {},
   "outputs": [],
   "source": [
    "# Place cursor below and insert the Pandas DataFrame for the German-Credit-Risk-SmallBatchSet.csv\n"
   ]
  },
  {
   "cell_type": "markdown",
   "metadata": {},
   "source": [
    "We'll use the Pandas naming convention df for our DataFrame. Make sure that the cell below uses the name for the dataframe used above. For the locally uploaded file it should look like df_data_1 or df_data_2 or df_data_x.\n",
    "\n",
    "<font color=red>**<< UPDATE THE VARIABLE ASSIGNMENT TO THE VARIABLE GENERATED ABOVE. >>**</font>"
   ]
  },
  {
   "cell_type": "code",
   "execution_count": null,
   "metadata": {},
   "outputs": [],
   "source": [
    "# Replace df_data_1 with the variable name generated above.\n",
    "batch_df = df_data_1"
   ]
  },
  {
   "cell_type": "markdown",
   "metadata": {},
   "source": [
    "### 2.5 Create Job\n",
    "\n",
    "We can now use the information about the deployment and the test data to create a new job against our batch deployment. We submit the data as inline payload and want the results (i.e predictions) stored in a CSV file."
   ]
  },
  {
   "cell_type": "code",
   "execution_count": null,
   "metadata": {},
   "outputs": [],
   "source": [
    "import time\n",
    "timestr = time.strftime(\"%Y%m%d_%H%M%S\")\n",
    "job_payload = {\n",
    "    wml_client.deployments.ScoringMetaNames.INPUT_DATA: [{\n",
    "        'fields': batch_df.columns.values.tolist(),\n",
    "        'values': batch_df.values.tolist()\n",
    "    }],\n",
    "    wml_client.deployments.ScoringMetaNames.OUTPUT_DATA_REFERENCE: {\n",
    "            \"type\": \"data_asset\",\n",
    "            \"connection\": {},\n",
    "            \"location\": {\n",
    "                \"name\": \"batchres_{}_{}.csv\".format(timestr,deployment_uid),\n",
    "                \"description\": \"results\"\n",
    "            }\n",
    "    }\n",
    "}\n",
    "\n",
    "job = wml_client.deployments.create_job(deployment_id=deployment_uid, meta_props=job_payload)\n",
    "job_uid = wml_client.deployments.get_job_uid(job)\n",
    "\n",
    "print('Job uid = {}'.format(job_uid))"
   ]
  },
  {
   "cell_type": "code",
   "execution_count": null,
   "metadata": {},
   "outputs": [],
   "source": [
    "wml_client.deployments.list_jobs()"
   ]
  },
  {
   "cell_type": "markdown",
   "metadata": {},
   "source": [
    "## 3.0 Monitor Batch Job Status\n",
    "\n",
    "The batch job is an async operation. We can use the identifier to track its progress. Below we will just poll until the job completes (or fails)."
   ]
  },
  {
   "cell_type": "code",
   "execution_count": null,
   "metadata": {},
   "outputs": [],
   "source": [
    "def poll_async_job(client, job_uid):\n",
    "    import time\n",
    "    while True:\n",
    "        job_status = client.deployments.get_job_status(job_uid)\n",
    "        print(job_status)\n",
    "        state = job_status['state']\n",
    "        if state == 'completed' or 'fail' in state:\n",
    "            return client.deployments.get_job_details(job_uid)\n",
    "        time.sleep(5)\n",
    "            \n",
    "job_details = poll_async_job(wml_client, job_uid)"
   ]
  },
  {
   "cell_type": "code",
   "execution_count": null,
   "metadata": {},
   "outputs": [],
   "source": [
    "wml_client.deployments.list_jobs()"
   ]
  },
  {
   "cell_type": "markdown",
   "metadata": {},
   "source": [
    "### 3.1 Check Results\n",
    "\n",
    "With the job complete, we can see the predictions. "
   ]
  },
  {
   "cell_type": "code",
   "execution_count": null,
   "metadata": {},
   "outputs": [],
   "source": [
    "wml_client.deployments.get_job_details()"
   ]
  },
  {
   "cell_type": "code",
   "execution_count": null,
   "metadata": {},
   "outputs": [],
   "source": [
    "print(json.dumps(job_details, indent=2))"
   ]
  },
  {
   "cell_type": "markdown",
   "metadata": {},
   "source": [
    "## Congratulations, you have created and submitted a job for batch scoring !"
   ]
  }
 ],
 "metadata": {
  "kernelspec": {
   "display_name": "Python 3.6",
   "language": "python",
   "name": "python3"
  },
  "language_info": {
   "codemirror_mode": {
    "name": "ipython",
    "version": 3
   },
   "file_extension": ".py",
   "mimetype": "text/x-python",
   "name": "python",
   "nbconvert_exporter": "python",
   "pygments_lexer": "ipython3",
   "version": "3.6.9"
  }
 },
 "nbformat": 4,
 "nbformat_minor": 1
}
